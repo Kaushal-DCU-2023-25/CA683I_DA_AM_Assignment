{
  "nbformat": 4,
  "nbformat_minor": 0,
  "metadata": {
    "colab": {
      "provenance": [],
      "authorship_tag": "ABX9TyMiixgzdhAEasMVGGWCNYEj",
      "include_colab_link": true
    },
    "kernelspec": {
      "name": "python3",
      "display_name": "Python 3"
    },
    "language_info": {
      "name": "python"
    }
  },
  "cells": [
    {
      "cell_type": "markdown",
      "metadata": {
        "id": "view-in-github",
        "colab_type": "text"
      },
      "source": [
        "<a href=\"https://colab.research.google.com/github/Kaushal-DCU-2023-25/CA683I_DA_AM_Assignment/blob/main/Kaushal_Module_4_NLP.ipynb\" target=\"_parent\"><img src=\"https://colab.research.google.com/assets/colab-badge.svg\" alt=\"Open In Colab\"/></a>"
      ]
    },
    {
      "cell_type": "code",
      "execution_count": 22,
      "metadata": {
        "colab": {
          "base_uri": "https://localhost:8080/"
        },
        "id": "aIT14F52k193",
        "outputId": "bf9ae43d-b761-4b81-98f9-5eaf2abbaeb4"
      },
      "outputs": [
        {
          "output_type": "stream",
          "name": "stdout",
          "text": [
            "0    1\n",
            "1    0\n",
            "Name: 0, dtype: int64\n",
            "0    0\n",
            "1    2\n",
            "Name: 0, dtype: int64\n",
            "0    @user when a father is functional and is s.\n",
            "1     @user @user thanks for #lyft #credit i can\n",
            "Name: 0, dtype: object\n",
            "ab cc dd\n"
          ]
        }
      ],
      "source": [
        "import pandas as pd\n",
        "import numpy as np\n",
        "\n",
        "df= pd.DataFrame([['@user when a Father IS Functional and is s.'], ['@user @user thanks for #lyft #credit i can']])\n",
        "\n",
        "upper_count = df[0].apply(lambda x: len([x for x in x.split() if x.isupper()]))\n",
        "hash_tag_count = df[0].apply(lambda x: len([x for x in x.split() if x.startswith('#')]))\n",
        "\n",
        "print(upper_count)\n",
        "print(hash_tag_count)\n",
        "\n",
        "print(df[0].apply(lambda x: x.lower()))\n",
        "\n",
        "\n",
        "print(\"-\".join(x for x in \"ab cc dd\".split(\" \") if x.islower()))"
      ]
    },
    {
      "cell_type": "code",
      "source": [
        "from sklearn.feature_extraction.text import TfidfVectorizer, CountVectorizer\n",
        "import pandas as pd\n",
        "import numpy as np\n",
        "\n",
        "df= pd.DataFrame([['the house had a tiny little mouse',\n",
        "      'the cat saw the mouse',\n",
        "      'the mouse ran away from the house',\n",
        "      'the cat finally ate the mouse',\n",
        "      'the end of the mouse story'\n",
        "     ]]);\n",
        "docs=[\"The car is driven on the road.\",\n",
        "     \"The truck is driven on the highway.\"]\n",
        "\n",
        "cv = CountVectorizer()\n",
        "cv_result = cv.fit_transform(docs)\n",
        "print(cv.get_feature_names_out())\n",
        "print(cv_result.toarray())\n",
        "\n",
        "\n",
        "tfidf_vectorizer=TfidfVectorizer()\n",
        "\n",
        "# just send in all your docs here\n",
        "print(tfidf_vectorizer.fit_transform(docs))\n",
        "print(tfidf_vectorizer.fit_transform(df[0]))\n",
        "\n"
      ],
      "metadata": {
        "colab": {
          "base_uri": "https://localhost:8080/"
        },
        "id": "ZKQSTdlnu0hX",
        "outputId": "65b53c22-b479-4d65-f1fa-c49bfa348ad5"
      },
      "execution_count": 58,
      "outputs": [
        {
          "output_type": "stream",
          "name": "stdout",
          "text": [
            "['car' 'driven' 'highway' 'is' 'on' 'road' 'the' 'truck']\n",
            "[[1 1 0 1 1 1 2 0]\n",
            " [0 1 1 1 1 0 2 1]]\n",
            "  (0, 5)\t0.42471718586982765\n",
            "  (0, 4)\t0.30218977576862155\n",
            "  (0, 1)\t0.30218977576862155\n",
            "  (0, 3)\t0.30218977576862155\n",
            "  (0, 0)\t0.42471718586982765\n",
            "  (0, 6)\t0.6043795515372431\n",
            "  (1, 2)\t0.42471718586982765\n",
            "  (1, 7)\t0.42471718586982765\n",
            "  (1, 4)\t0.30218977576862155\n",
            "  (1, 1)\t0.30218977576862155\n",
            "  (1, 3)\t0.30218977576862155\n",
            "  (1, 6)\t0.6043795515372431\n",
            "  (0, 3)\t0.4082482904638631\n",
            "  (0, 2)\t0.4082482904638631\n",
            "  (0, 5)\t0.4082482904638631\n",
            "  (0, 0)\t0.4082482904638631\n",
            "  (0, 1)\t0.4082482904638631\n",
            "  (0, 4)\t0.4082482904638631\n"
          ]
        }
      ]
    }
  ]
}