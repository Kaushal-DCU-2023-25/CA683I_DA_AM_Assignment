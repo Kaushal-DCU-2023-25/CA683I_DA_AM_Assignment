{
  "cells": [
    {
      "cell_type": "markdown",
      "metadata": {
        "id": "view-in-github",
        "colab_type": "text"
      },
      "source": [
        "<a href=\"https://colab.research.google.com/github/Kaushal-DCU-2023-25/CA683I_DA_AM_Assignment/blob/main/Kaushal_2024_CA683I_DA_AM_Assignment.ipynb\" target=\"_parent\"><img src=\"https://colab.research.google.com/assets/colab-badge.svg\" alt=\"Open In Colab\"/></a>"
      ]
    },
    {
      "cell_type": "code",
      "execution_count": 3,
      "metadata": {
        "colab": {
          "base_uri": "https://localhost:8080/"
        },
        "id": "k46tZRbtxNfT",
        "outputId": "b34ff294-774d-48b5-afe0-a5c1c1b47541"
      },
      "outputs": [
        {
          "output_type": "stream",
          "name": "stdout",
          "text": [
            "\u001b[?25l     \u001b[90m━━━━━━━━━━━━━━━━━━━━━━━━━━━━━━━━━━━━━━━━\u001b[0m \u001b[32m0.0/46.7 kB\u001b[0m \u001b[31m?\u001b[0m eta \u001b[36m-:--:--\u001b[0m\r\u001b[2K     \u001b[91m━━━━━━━━━━━━━━━━━\u001b[0m\u001b[91m╸\u001b[0m\u001b[90m━━━━━━━━━━━━━━━━━━━━━━\u001b[0m \u001b[32m20.5/46.7 kB\u001b[0m \u001b[31m701.0 kB/s\u001b[0m eta \u001b[36m0:00:01\u001b[0m\r\u001b[2K     \u001b[91m━━━━━━━━━━━━━━━━━\u001b[0m\u001b[91m╸\u001b[0m\u001b[90m━━━━━━━━━━━━━━━━━━━━━━\u001b[0m \u001b[32m20.5/46.7 kB\u001b[0m \u001b[31m701.0 kB/s\u001b[0m eta \u001b[36m0:00:01\u001b[0m\r\u001b[2K     \u001b[91m━━━━━━━━━━━━━━━━━━━━━━━━━━━━━━━━━━━\u001b[0m\u001b[90m╺\u001b[0m\u001b[90m━━━━\u001b[0m \u001b[32m41.0/46.7 kB\u001b[0m \u001b[31m429.3 kB/s\u001b[0m eta \u001b[36m0:00:01\u001b[0m\r\u001b[2K     \u001b[91m━━━━━━━━━━━━━━━━━━━━━━━━━━━━━━━━━━━\u001b[0m\u001b[90m╺\u001b[0m\u001b[90m━━━━\u001b[0m \u001b[32m41.0/46.7 kB\u001b[0m \u001b[31m429.3 kB/s\u001b[0m eta \u001b[36m0:00:01\u001b[0m\r\u001b[2K     \u001b[90m━━━━━━━━━━━━━━━━━━━━━━━━━━━━━━━━━━━━━━━━\u001b[0m \u001b[32m46.7/46.7 kB\u001b[0m \u001b[31m254.4 kB/s\u001b[0m eta \u001b[36m0:00:00\u001b[0m\n",
            "\u001b[?25hCollecting imblearn\n",
            "  Downloading imblearn-0.0-py2.py3-none-any.whl (1.9 kB)\n",
            "Requirement already satisfied: imbalanced-learn in /usr/local/lib/python3.10/dist-packages (from imblearn) (0.10.1)\n",
            "Requirement already satisfied: numpy>=1.17.3 in /usr/local/lib/python3.10/dist-packages (from imbalanced-learn->imblearn) (1.25.2)\n",
            "Requirement already satisfied: scipy>=1.3.2 in /usr/local/lib/python3.10/dist-packages (from imbalanced-learn->imblearn) (1.11.4)\n",
            "Requirement already satisfied: scikit-learn>=1.0.2 in /usr/local/lib/python3.10/dist-packages (from imbalanced-learn->imblearn) (1.2.2)\n",
            "Requirement already satisfied: joblib>=1.1.1 in /usr/local/lib/python3.10/dist-packages (from imbalanced-learn->imblearn) (1.3.2)\n",
            "Requirement already satisfied: threadpoolctl>=2.0.0 in /usr/local/lib/python3.10/dist-packages (from imbalanced-learn->imblearn) (3.4.0)\n",
            "Installing collected packages: imblearn\n",
            "Successfully installed imblearn-0.0\n"
          ]
        }
      ],
      "source": [
        "!pip install -U -q PyDrive2\n",
        "!pip install imblearn\n",
        "\n",
        "from pydrive2.auth import GoogleAuth\n",
        "from pydrive2.drive import GoogleDrive\n",
        "from google.colab import auth\n",
        "from oauth2client.client import GoogleCredentials\n",
        "import numpy as np\n",
        "import pandas as pd\n",
        "\n",
        "#Visualization Libraries\n",
        "import seaborn as sns\n",
        "import matplotlib.pyplot as plt\n",
        "\n",
        "#To plot the graph embedded in the notebook\n",
        "%matplotlib inline\n",
        "\n",
        "auth.authenticate_user()\n",
        "gauth = GoogleAuth()\n",
        "gauth.credentials = GoogleCredentials.get_application_default()\n",
        "drive = GoogleDrive(gauth)\n",
        "sns.set_palette(palette = \"Paired\")"
      ]
    },
    {
      "cell_type": "markdown",
      "metadata": {
        "id": "gx4pggTW7Zix"
      },
      "source": [
        "### Data visualization\n",
        "- Heat map\n",
        "- Box plot\n",
        "- Central Tendency\n",
        "- Statistical test between 2015 and 2021 data (chi square test)-"
      ]
    },
    {
      "cell_type": "code",
      "execution_count": null,
      "metadata": {
        "id": "yAFg0e5aALst"
      },
      "outputs": [],
      "source": [
        "import pandas as pd\n",
        "import numpy as np\n",
        "\n",
        "# Read files\n",
        "file_diabeties = drive.CreateFile({'id':'1MjAoJU98qHEd3NG6ohXdSPTnhHsG12cX'})\n",
        "file_diabeties.GetContentFile('diabetes_012_health_indicators_BRFSS2015.csv')\n",
        "df_brfss15_ubal = pd.read_csv('diabetes_012_health_indicators_BRFSS2015.csv')\n",
        "\n",
        "#https://drive.google.com/file/d/1Grz0fdjypwBTBN8GchZ_mh-_aTYNdmBb/view?usp=drive_link\n",
        "# Source: https://www.kaggle.com/datasets/alexteboul/diabetes-health-indicators-dataset\n",
        "file_diabeties2 = drive.CreateFile({'id':'1Grz0fdjypwBTBN8GchZ_mh-_aTYNdmBb'})\n",
        "file_diabeties2.GetContentFile('diabetes_binary_5050split_health_indicators_BRFSS2015.csv')\n",
        "df_brfss15_bal = pd.read_csv('diabetes_binary_5050split_health_indicators_BRFSS2015.csv')\n",
        "\n",
        "#https://drive.google.com/file/d/10rkY6BdjNl9MInFViO0FX1NPsfmkQ_2t/view?usp=drive_link\n",
        "file_diabeties3 = drive.CreateFile({'id':'10rkY6BdjNl9MInFViO0FX1NPsfmkQ_2t'})\n",
        "file_diabeties3.GetContentFile('diabetes_012_health_indicators_BRFSS2021.csv')\n",
        "df_brfss21_ubal = pd.read_csv('diabetes_012_health_indicators_BRFSS2021.csv')\n",
        "\n",
        "#https://drive.google.com/file/d/1MeSXN4dxq-_YM-NwnEDELQJJYOa0IxGJ/view?usp=drive_link\n",
        "file_diabeties4 = drive.CreateFile({'id':'1MeSXN4dxq-_YM-NwnEDELQJJYOa0IxGJ'})\n",
        "file_diabeties4.GetContentFile('diabetes_binary_5050split_health_indicators_BRFSS2021.csv')\n",
        "df_brfss21_bal = pd.read_csv('diabetes_binary_5050split_health_indicators_BRFSS2021.csv')\n",
        "\n"
      ]
    },
    {
      "cell_type": "code",
      "execution_count": null,
      "metadata": {
        "id": "3XIScbK_1LPX"
      },
      "outputs": [],
      "source": [
        "df_brfss = pd.concat([df_brfss15_ubal, df_brfss21_ubal], axis=0).reset_index(drop=True)\n",
        "#0 = no diabetes 1 = prediabetes 2 = diabetes\n",
        "#df_brfss.describe()\n",
        "\n",
        "# Selected dataset is df_brfss15_ubal and df_brfss21_ubal\n",
        "df_brfss = df_brfss.rename(columns={\"Diabetes_012\": \"Diabetes\"})\n",
        "\n",
        "# Downsampling unbalanced dataset\n",
        "\n",
        "# Selected dataset is df_brfss15_bal and df_brfss21_bal\n",
        "#df_brfss = df_brfss.rename(columns={\"Diabetes_binary\": \"Diabetes\"})\n",
        "print(df_brfss['Diabetes'].unique())\n",
        "df_brfss.head()\n",
        "\n",
        "\n"
      ]
    },
    {
      "cell_type": "markdown",
      "metadata": {
        "id": "stFQROo71XSm"
      },
      "source": []
    },
    {
      "cell_type": "code",
      "execution_count": null,
      "metadata": {
        "id": "aQiUzjTXG8nn"
      },
      "outputs": [],
      "source": [
        "import matplotlib.pyplot as plt\n",
        "import math\n",
        "\n",
        "def plot_columns(data, col_names, col_count_in_one_row=5, size=(20, 8), color='blue'):\n",
        "    \"\"\"\n",
        "    This menthod will plot dataframes fields in n columns\n",
        "    \"\"\"\n",
        "\n",
        "    total_row = math.ceil(len(col_names)/col_count_in_one_row)\n",
        "    fig, ax = plt.subplots(total_row, col_count_in_one_row, figsize=size)\n",
        "\n",
        "    col_index = 0;\n",
        "    for i in range(total_row):\n",
        "        for j in range(col_count_in_one_row):\n",
        "            if col_index >= len(col_names):\n",
        "                continue\n",
        "            if total_row == 1:\n",
        "                data[col_names[col_index]].plot(title = col_names[col_index], kind='hist', ax=ax[j], color=color)\n",
        "            else:\n",
        "                data[col_names[col_index]].plot(title = col_names[col_index], kind='hist', ax=ax[i, j], color=color)\n",
        "            col_index = col_index+1\n",
        "\n",
        "    plt.subplots_adjust(wspace=0.3,  hspace=0.4)\n",
        "    plt.show()\n"
      ]
    },
    {
      "cell_type": "code",
      "execution_count": null,
      "metadata": {
        "id": "Rkb744nNbh85"
      },
      "outputs": [],
      "source": [
        "sns.boxplot(df_brfss['BMI'], ).set(title='Box plot of BMI')\n",
        "plot_columns(df_brfss[df_brfss['Diabetes'] == 1],  ['Age', 'Education', 'GenHlth', 'MentHlth', 'PhysHlth'], col_count_in_one_row=5, size=(20, 4), color='RED')\n",
        "plot_columns(df_brfss[df_brfss['Diabetes'] == 0],  ['Age', 'Education', 'GenHlth', 'MentHlth', 'PhysHlth'], col_count_in_one_row=5, size=(20, 4), color='GREEN')\n",
        "plot_columns(df_brfss[df_brfss['Diabetes'] == 1], ['Income', 'BMI', 'PhysActivity', 'HeartDiseaseorAttack', 'Smoker'], col_count_in_one_row=5, size=(20, 4), color='RED')\n",
        "plot_columns(df_brfss[df_brfss['Diabetes'] == 0], ['Income', 'BMI', 'PhysActivity', 'HeartDiseaseorAttack', 'Smoker'], col_count_in_one_row=5, size=(20, 4), color='GREEN')"
      ]
    },
    {
      "cell_type": "code",
      "execution_count": null,
      "metadata": {
        "id": "3JNFdYR-ZMEW"
      },
      "outputs": [],
      "source": [
        "import matplotlib.pyplot as plt\n",
        "import math\n",
        "\n",
        "def scatter_plot_columns(data, main_col, col_names, col_count_in_one_row=5, size=(20, 8)):\n",
        "    \"\"\"\n",
        "    This menthod will plot dataframes fields in n columns\n",
        "    \"\"\"\n",
        "\n",
        "    total_row = math.ceil(len(col_names)/col_count_in_one_row)\n",
        "    fig, ax = plt.subplots(total_row, col_count_in_one_row, figsize=size)\n",
        "\n",
        "    col_index = 0;\n",
        "    for i in range(total_row):\n",
        "        for j in range(col_count_in_one_row):\n",
        "            if col_index >= len(col_names):\n",
        "                continue\n",
        "            data.plot.scatter(title = col_names[col_index], x = main_col , y = col_names[col_index], ax=ax[i,j])\n",
        "            col_index = col_index+1\n",
        "\n",
        "    plt.subplots_adjust(wspace=0.3,  hspace=0.4)\n",
        "    plt.show()"
      ]
    },
    {
      "cell_type": "code",
      "execution_count": null,
      "metadata": {
        "id": "SbNN4C3mZPf5"
      },
      "outputs": [],
      "source": [
        "scatter_plot_columns(df_brfss, 'Diabetes', ['Age', 'Education', 'GenHlth', 'MentHlth',\t'PhysHlth', 'Income', 'BMI', 'PhysActivity', 'HeartDiseaseorAttack', 'Smoker'])"
      ]
    },
    {
      "cell_type": "markdown",
      "metadata": {
        "id": "VF_WfcyQ4Gnc"
      },
      "source": [
        "## Preprocess the data\n",
        "   - Missing data imputation\n",
        "   - Outlier detection and imputation\n",
        "       - multivariate vs univariate\n",
        "   - Normalise data is required\n",
        "\n"
      ]
    },
    {
      "cell_type": "markdown",
      "metadata": {
        "id": "tYtjXER_SeiG"
      },
      "source": [
        "## Feature engineering\n",
        "   - Perform multicollinearltiy analysis\n",
        "   - VIF calculation (VIF > 10, then drop)\n",
        "   - Feature selection using Lasso regression\n",
        "\n",
        "\n",
        "Calculated VIF, none of the VIF is > 10, hence no need to drop"
      ]
    },
    {
      "cell_type": "markdown",
      "metadata": {
        "id": "zEi9BnnR_rwn"
      },
      "source": []
    },
    {
      "cell_type": "code",
      "execution_count": null,
      "metadata": {
        "id": "AUtnhmKm981Y"
      },
      "outputs": [],
      "source": [
        "# Diagonal elements in the table\n",
        "df_brfss_cor = df_brfss.corr()\n",
        "#pd.DataFrame(np.linalg.inv(df_brfss.corr().values), index = df_brfss_cor.index, columns=df_brfss_cor.columns)\n",
        "\n",
        "#VIF is not > 10\n",
        "print(np.diag(np.linalg.inv(df_brfss.corr().values)))\n",
        "\n",
        "# No Is null values, hence  not imputing anything\n",
        "print(\"Number of null values\")\n",
        "print(df_brfss.isnull().sum())\n",
        "\n",
        "print(\"Duplicates count\")\n",
        "print(df_brfss.duplicated().sum())\n",
        "\n",
        "df_brfss.drop_duplicates(inplace=True)\n",
        "\n",
        "print(\"Duplicates count after dropping duplicate\")\n",
        "print(df_brfss.duplicated().sum())\n",
        "\n",
        "print(df_brfss.columns)\n",
        "\n",
        "# Remove outliers from BMI\n",
        "cols_to_remove_outlier = ['BMI']\n",
        "qtr_1 = df_brfss[cols_to_remove_outlier].quantile(0.25)\n",
        "qtr_3 = df_brfss[cols_to_remove_outlier].quantile(0.75)\n",
        "IQR = qtr_3 - qtr_1\n",
        "max_iqr_range = 1.5 # Ideal distribution it 100 percentile will be 1.33 of 75th percentile (100/75), so adding some buffer\n",
        "df_brfss = df_brfss[~((df_brfss[cols_to_remove_outlier] < (qtr_1 - max_iqr_range * IQR)) | (df_brfss[cols_to_remove_outlier] > (qtr_3 + max_iqr_range * IQR))).any(axis=1)]\n",
        "df_brfss = df_brfss.drop(df_brfss[df_brfss['BMI'].gt(qtr_3 - 1.2 * IQR) & df_brfss['Diabetes'].eq(0)].index)\n",
        "#df_brfss = df_brfss[~(((df_brfss['BMI'] < (qtr_1 - 1.1 * IQR)) & df_brfss['Diabetes'] == 0) | ((df_brfss['BMI'] > (qtr_3 + 1.1 * IQR)) & df_brfss['Diabetes'] == 0)).any(axis=1)]\n"
      ]
    },
    {
      "cell_type": "code",
      "execution_count": null,
      "metadata": {
        "id": "gQW5ykZy7ZHp"
      },
      "outputs": [],
      "source": [
        "correlation_matrix = df_brfss.corr().round(2)\n",
        "fig, ax = plt.subplots(figsize=(15,15))         # Sample figsize in inches\n",
        "sns.heatmap(data=correlation_matrix, annot=True, linewidths=.5, ax=ax)\n"
      ]
    },
    {
      "cell_type": "code",
      "execution_count": null,
      "metadata": {
        "id": "-YGJmeKyj70Z"
      },
      "outputs": [],
      "source": [
        "figure,axes=plt.subplots(nrows=6, ncols=4, figsize=(15, 12))\n",
        "axes=axes.flatten()\n",
        "axes_counter=0\n",
        "for col_name in df_brfss.columns:\n",
        "    sns.countplot(data=df_brfss, x=col_name, ax=axes[axes_counter], hue='Diabetes')\n",
        "    plt.xlabel(col_name)\n",
        "    axes_counter+=1\n",
        "plt.tight_layout()\n",
        "plt.show()"
      ]
    },
    {
      "cell_type": "markdown",
      "metadata": {
        "id": "4VCmD9sQAkzB"
      },
      "source": [
        "Classification to check if we can predict lifestyle factors effect on Diabetes"
      ]
    },
    {
      "cell_type": "code",
      "execution_count": null,
      "metadata": {
        "id": "5dXKjvWQtU6M"
      },
      "outputs": [],
      "source": [
        "#sns.pairplot(df_brfss)"
      ]
    },
    {
      "cell_type": "code",
      "execution_count": null,
      "metadata": {
        "id": "bHqrFnRoov94"
      },
      "outputs": [],
      "source": [
        "#Dropping columns: 'Stroke','CholCheck', 'AnyHealthcare' because there is very low variance in these values\n",
        "print(df_brfss.var())\n",
        "col=['Stroke','CholCheck', 'AnyHealthcare', 'NoDocbcCost', 'HvyAlcoholConsump']\n",
        "#df_brfss=df_brfss.drop(col,axis=1)"
      ]
    },
    {
      "cell_type": "code",
      "execution_count": null,
      "metadata": {
        "id": "HliZ2_vq4YO6"
      },
      "outputs": [],
      "source": [
        "# Feature selection based on importance\n",
        "from sklearn.ensemble import RandomForestRegressor\n",
        "\n",
        "x= df_brfss.drop('Diabetes', axis=1)\n",
        "y= df_brfss[\"Diabetes\"]\n",
        "\n",
        "rfr_model = RandomForestRegressor(random_state=1, max_depth=10)\n",
        "df=pd.get_dummies(df_brfss)\n",
        "rfr_model.fit(x, y)\n",
        "\n",
        "features = df.columns\n",
        "importances = rfr_model.feature_importances_\n",
        "indices = np.argsort(importances)[-30:]  # top 10 features\n",
        "\n",
        "plt.title('Feature Importances')\n",
        "plt.barh(range(len(indices)), importances[indices], color='b', align='center')\n",
        "plt.yticks(range(len(indices)), [features[i] for i in indices])\n",
        "plt.xlabel('Relative Importance')\n",
        "plt.show()\n",
        "\n",
        "'''\n",
        "clf = Pipeline([\n",
        "  ('feature_selection', SelectFromModel(LinearSVC(dual=\"auto\", penalty=\"l1\"))),\n",
        "  ('classification', RandomForestClassifier())\n",
        "])\n",
        "clf.fit(X, y)\n",
        "'''"
      ]
    },
    {
      "cell_type": "markdown",
      "metadata": {
        "id": "wWvAQjEcSlR-"
      },
      "source": [
        "## Exeuction\n",
        "### RandomForestClassifier\n",
        "\n",
        "Use RandomForestClassifier to tain the model.\n",
        "\n",
        "#### Results on unbalanced data\n",
        "\n",
        "                    Predicted Healthy  Predicted PreDiabetic  Predicted Diabetes\n",
        "    Not Diabetic             104945                    178                4601\n",
        "    PreDiabetic                2668                      0                 345\n",
        "    Diabetic                  16324                     35                3982\n",
        "                   \n",
        "                   \n",
        "         precision    recall  f1-score   support\n",
        "\n",
        "         0.0       0.85      0.96      0.90    109724\n",
        "         1.0       0.00      0.00      0.00      3013\n",
        "         2.0       0.45      0.20      0.27     20341\n",
        "\n",
        "    accuracy                           0.82    133078\n",
        "    macro avg       0.43      0.38      0.39    133078\n",
        "    weighted avg       0.77      0.82      0.78    133078\n",
        "\n",
        "#### Results on balanced data\n",
        "\n",
        "                  Predicted Healthy  Predicted Diabetes\n",
        "    Not Diabetic              13501                6441\n",
        "    Diabetic                   4677               15748\n",
        "                  precision    recall  f1-score   support\n",
        "\n",
        "                 0.0       0.74      0.68      0.71     19942\n",
        "                 1.0       0.71      0.77      0.74     20425\n",
        "\n",
        "    accuracy                           0.72     40367\n",
        "    macro avg       0.73      0.72      0.72     40367\n",
        "    weighted avg       0.73      0.72      0.72     40367\n",
        "  "
      ]
    },
    {
      "cell_type": "code",
      "execution_count": null,
      "metadata": {
        "id": "w41bAW3iAkSA"
      },
      "outputs": [],
      "source": [
        "from sklearn.model_selection import train_test_split\n",
        "from sklearn.pipeline import Pipeline\n",
        "from sklearn.preprocessing import StandardScaler, FunctionTransformer\n",
        "from sklearn.svm import SVC\n",
        "from sklearn.ensemble import RandomForestClassifier\n",
        "from sklearn.metrics import classification_report, confusion_matrix\n",
        "\n",
        "x= df_brfss.drop('Diabetes', axis=1)\n",
        "y= df_brfss[\"Diabetes\"]\n",
        "\n",
        "\n",
        "x_train, x_test, y_train, y_test = train_test_split(x,y, test_size = 0.2, random_state=50)\n",
        "\n",
        "model = Pipeline([\n",
        "  ('transfor', StandardScaler()),\n",
        "  ('classifier', RandomForestClassifier())\n",
        "])\n",
        "model.fit(x_train, y_train)\n",
        "\n",
        "\n",
        "y_predict = model.predict(x_test)\n",
        "\n",
        "\n",
        "#cm = np.array(confusion_matrix(y_test, y_predict, labels=[0, 1]))\n",
        "#confusion = pd.DataFrame(cm, index=['Not Diabetic', 'Diabetic'], columns=['Predicted Healthy', 'Predicted Diabetes'])\n",
        "cm = np.array(confusion_matrix(y_test, y_predict, labels=[0, 1 , 2]))\n",
        "confusion = pd.DataFrame(cm, index=['Not Diabetic', 'PreDiabetic', 'Diabetic'], columns=['Predicted Healthy', 'Predicted PreDiabetic', 'Predicted Diabetes'])\n",
        "\n",
        "print(confusion)\n",
        "sns.heatmap(confusion,annot=True,fmt='g')\n",
        "print(classification_report(y_test, y_predict))"
      ]
    },
    {
      "cell_type": "markdown",
      "source": [
        "#### Drop 1 feature a time and check which one has best precision\n",
        "\n",
        "##### Results on unbalanced data\n",
        "\n",
        "```\n",
        "{'accuracy': 0.818760426216204, 'feature': 'CholCheck'}\n",
        "{'HighBP': 0.816198019206781, 'HighChol': 0.8134778100061618, 'CholCheck': 0.818760426216204, 'BMI': 0.8086385428094801, 'Smoker': 0.816926915042306, 'Stroke': 0.8182419333022739, 'HeartDiseaseorAttack': 0.8175130374667489, 'PhysActivity': 0.8168592855317934, 'Fruits': 0.8166263394400276, 'Veggies': 0.8175430950269766, 'HvyAlcoholConsump': 0.8181818181818182, 'AnyHealthcare': 0.818587595244894, 'NoDocbcCost': 0.81857256646478, 'GenHlth': 0.8132298351342822, 'MentHlth': 0.8165286523692872, 'PhysHlth': 0.815469123371256, 'DiffWalk': 0.8176933828281159, 'Sex': 0.8161153609161544, 'Age': 0.8132598926945099, 'Education': 0.8147627707059018, 'Income': 0.8141841626715159}\n",
        "{'accuracy': 0.8188205413366597, 'feature': 'NoDocbcCost'}\n",
        "{'HighBP': 0.8154465802010851, 'HighChol': 0.8141390763311742, 'BMI': 0.8084206254978283, 'Smoker': 0.8164685372488315, 'Stroke': 0.8181367318414764, 'HeartDiseaseorAttack': 0.8170396308931605, 'PhysActivity': 0.8168743143119073, 'Fruits': 0.8160777889658697, 'Veggies': 0.8175280662468627, 'HvyAlcoholConsump': 0.817858699409369, 'AnyHealthcare': 0.8186026240250079, 'NoDocbcCost': 0.8188205413366597, 'GenHlth': 0.8129518027021747, 'MentHlth': 0.8164685372488315, 'PhysHlth': 0.8155066953215407, 'DiffWalk': 0.8179338433099386, 'Sex': 0.8154165226408573, 'Age': 0.8137708712183832, 'Education': 0.8146876268053322, 'Income': 0.8141015043808894}\n",
        "{'accuracy': 0.8178962713596537, 'feature': 'HvyAlcoholConsump'}\n",
        "{'HighBP': 0.8154390658110281, 'HighChol': 0.8137558424382693, 'BMI': 0.8083154240370309, 'Smoker': 0.8160777889658697, 'Stroke': 0.8174303791761223, 'HeartDiseaseorAttack': 0.8168818287019642, 'PhysActivity': 0.8160627601857557, 'Fruits': 0.8155442672718255, 'Veggies': 0.8167089977306542, 'HvyAlcoholConsump': 0.8178962713596537, 'AnyHealthcare': 0.8176182389275463, 'GenHlth': 0.8122003636964787, 'MentHlth': 0.8152211484993763, 'PhysHlth': 0.8148304002164144, 'DiffWalk': 0.8171222891837869, 'Sex': 0.8155367528817686, 'Age': 0.8127188566104089, 'Education': 0.8138385007288959, 'Income': 0.8133049790348518}\n",
        "{'accuracy': 0.8175506094170336, 'feature': 'Stroke'}\n",
        "{'HighBP': 0.8146801124152753, 'HighChol': 0.8133500653751935, 'BMI': 0.8067073445648417, 'Smoker': 0.8154916665414268, 'Stroke': 0.8175506094170336, 'HeartDiseaseorAttack': 0.8160928177459835, 'PhysActivity': 0.8148905153368701, 'Fruits': 0.815093403868408, 'Veggies': 0.8158899292144457, 'AnyHealthcare': 0.8168968574820782, 'GenHlth': 0.8122153924765927, 'MentHlth': 0.8148379146064714, 'PhysHlth': 0.8136356121973579, 'DiffWalk': 0.8164910804190024, 'Sex': 0.8146049685147057, 'Age': 0.8117720434632321, 'Education': 0.8141465907212312, 'Income': 0.8127188566104089}\n",
        "{'accuracy': 0.8166338538300846, 'feature': 'AnyHealthcare'}\n",
        "{'HighBP': 0.814356993642826, 'HighChol': 0.8124483385683584, 'BMI': 0.8062189092111394, 'Smoker': 0.8149806880175536, 'HeartDiseaseorAttack': 0.8153639219104585, 'PhysActivity': 0.8144922526638513, 'Fruits': 0.8142593065720856, 'Veggies': 0.8153564075204016, 'AnyHealthcare': 0.8166338538300846, 'GenHlth': 0.8113963239603841, 'MentHlth': 0.8143344504726552, 'PhysHlth': 0.8128541156314342, 'DiffWalk': 0.8159350155547874, 'Sex': 0.8139361877996363, 'Age': 0.8111483490885045, 'Education': 0.8125610544192128, 'Income': 0.811989960774884}\n",
        "['Diabetes', 'CholCheck', 'NoDocbcCost', 'HvyAlcoholConsump', 'Stroke', 'AnyHealthcare']\n",
        "```\n",
        "\n",
        "##### Results on balanced data\n",
        "\n",
        "\n",
        "```\n",
        "{'accuracy': 0.726187232145069, 'feature': 'AnyHealthcare'}\n",
        "{'HighBP': 0.7210840538063269, 'HighChol': 0.7211088265167092, 'CholCheck': 0.7251467783090148, 'BMI': 0.7079792900141204, 'Smoker': 0.7231649614784353, 'Stroke': 0.7250476874674858, 'HeartDiseaseorAttack': 0.7239081427899027, 'PhysActivity': 0.7247008695221344, 'Fruits': 0.721901553248941, 'Veggies': 0.7245770059702232, 'HvyAlcoholConsump': 0.7247256422325167, 'AnyHealthcare': 0.726187232145069, 'NoDocbcCost': 0.7256174598062775, 'GenHlth': 0.7066911090742438, 'MentHlth': 0.7230658706369064, 'PhysHlth': 0.7232145068991999, 'DiffWalk': 0.7247751876532812, 'Sex': 0.7240072336314316, 'Age': 0.7133797408774494, 'Education': 0.7235860975549335, 'Income': 0.7203656452052419}\n",
        "{'accuracy': 0.7263606411177447, 'feature': 'DiffWalk'}\n",
        "{'HighBP': 0.7210345083855625, 'HighChol': 0.7201179181014195, 'CholCheck': 0.7244531424183119, 'BMI': 0.7061213367354522, 'Smoker': 0.7231154160576708, 'Stroke': 0.7248742784948101, 'HeartDiseaseorAttack': 0.7232392796095821, 'PhysActivity': 0.7251467783090148, 'Fruits': 0.7212079173582382, 'Veggies': 0.7238338246587559, 'HvyAlcoholConsump': 0.7240320063418139, 'NoDocbcCost': 0.7252210964401615, 'GenHlth': 0.7064681546808036, 'MentHlth': 0.7216290534347363, 'PhysHlth': 0.7227685981123194, 'DiffWalk': 0.7263606411177447, 'Sex': 0.7223226893254391, 'Age': 0.7111501969430475, 'Education': 0.7225456437188793, 'Income': 0.7198206455768326}\n",
        "{'accuracy': 0.7245026878390765, 'feature': 'NoDocbcCost'}\n",
        "{'HighBP': 0.7189783734238363, 'HighChol': 0.7184333737954269, 'CholCheck': 0.7234870067134045, 'BMI': 0.7030990660688186, 'Smoker': 0.7223474620358213, 'Stroke': 0.7235613248445513, 'HeartDiseaseorAttack': 0.7223474620358213, 'PhysActivity': 0.7232392796095821, 'Fruits': 0.7219263259593232, 'Veggies': 0.7221988257735279, 'HvyAlcoholConsump': 0.722719052691555, 'NoDocbcCost': 0.7245026878390765, 'GenHlth': 0.7063442911288924, 'MentHlth': 0.7221245076423811, 'PhysHlth': 0.7204151906260063, 'Sex': 0.7205638268882999, 'Age': 0.7095895161889663, 'Education': 0.7210592810959447, 'Income': 0.7190031461342186}\n",
        "{'accuracy': 0.7236851883964625, 'feature': 'Stroke'}\n",
        "{'HighBP': 0.7176158743528129, 'HighChol': 0.7191765551068943, 'CholCheck': 0.7224465528773503, 'BMI': 0.7042138380360196, 'Smoker': 0.7213565536205316, 'Stroke': 0.7236851883964625, 'HeartDiseaseorAttack': 0.7220997349319989, 'PhysActivity': 0.7231649614784353, 'Fruits': 0.7195976911833923, 'Veggies': 0.7222235984839102, 'HvyAlcoholConsump': 0.7203656452052419, 'GenHlth': 0.7036688384076102, 'MentHlth': 0.7200435999702728, 'PhysHlth': 0.7209354175440335, 'Sex': 0.720984962964798, 'Age': 0.7062699729977456, 'Education': 0.7198949637079793, 'Income': 0.7171947382763149}\n",
        "{'accuracy': 0.7226447345604082, 'feature': 'Veggies'}\n",
        "{'HighBP': 0.7170461020140213, 'HighChol': 0.7177149651943419, 'CholCheck': 0.7210345083855625, 'BMI': 0.7013897490524438, 'Smoker': 0.7211831446478559, 'HeartDiseaseorAttack': 0.7204151906260063, 'PhysActivity': 0.7218767805385587, 'Fruits': 0.7201922362325662, 'Veggies': 0.7226447345604082, 'HvyAlcoholConsump': 0.7219758713800877, 'GenHlth': 0.7041890653256373, 'MentHlth': 0.72078678128174, 'PhysHlth': 0.719969281839126, 'Sex': 0.7220749622216167, 'Age': 0.7085242896425298, 'Education': 0.7184086010850447, 'Income': 0.7181608739812223}\n",
        "['Diabetes', 'AnyHealthcare', 'DiffWalk', 'NoDocbcCost', 'Stroke', 'Veggies']\n",
        "```\n"
      ],
      "metadata": {
        "id": "4JNTtmT9pW4o"
      }
    },
    {
      "cell_type": "code",
      "source": [
        "def diabetes_classifier(df, features_to_drop):\n",
        "    x= df.drop(features_to_drop, axis=1)\n",
        "    y= df[\"Diabetes\"]\n",
        "\n",
        "\n",
        "    x_train, x_test, y_train, y_test = train_test_split(x,y, test_size = 0.3, random_state=50)\n",
        "    scaler = StandardScaler().fit(x_train)\n",
        "    x_train = scaler.transform(x_train)\n",
        "    x_test = scaler.transform(x_test)\n",
        "\n",
        "\n",
        "    model = RandomForestClassifier()\n",
        "    model.fit(x_train, y_train)\n",
        "    y_predict = model.predict(x_test)\n",
        "\n",
        "    #report = classification_report(y_test, y_predict, target_names=['Not Diabetic', 'Diabetic'], output_dict=True)\n",
        "    report = classification_report(y_test, y_predict, target_names=['Not Diabetic', 'PreDiabetic', 'Diabetic'], output_dict=True)\n",
        "    return report['accuracy']\n",
        "\n",
        "\n",
        "cols_to_drop_from_train = ['Diabetes']\n",
        "# Finding 5 columns to exclude from dataset to improve classifier performance\n",
        "for x in range(0, 5):\n",
        "    result = {};\n",
        "    max_accuracy_after_dropping = { \"accuracy\" : -1, \"feature\": \"none\"};\n",
        "    for col in df_brfss.columns:\n",
        "        if col in cols_to_drop_from_train:\n",
        "            continue\n",
        "        acc = diabetes_classifier(df_brfss,  [*[col], *cols_to_drop_from_train])\n",
        "        result[col] = acc\n",
        "        if (acc > max_accuracy_after_dropping[\"accuracy\"]):\n",
        "            max_accuracy_after_dropping = { \"accuracy\" : acc, \"feature\": col}\n",
        "\n",
        "    print(max_accuracy_after_dropping)\n",
        "    print(result)\n",
        "    cols_to_drop_from_train.append(max_accuracy_after_dropping[\"feature\"])\n",
        "\n",
        "print(cols_to_drop_from_train)\n"
      ],
      "metadata": {
        "id": "IP8fmNSQpRlh"
      },
      "execution_count": null,
      "outputs": []
    },
    {
      "cell_type": "markdown",
      "metadata": {
        "id": "lMNS40lfKnO3"
      },
      "source": [
        "## Forward Feature Selection\n",
        "\n",
        "Now, we will do forward feature selection to select the features to train the model."
      ]
    },
    {
      "cell_type": "markdown",
      "source": [],
      "metadata": {
        "id": "GDdwkqeP5ltX"
      }
    },
    {
      "cell_type": "code",
      "execution_count": null,
      "metadata": {
        "id": "pOqo5a-uM5qh"
      },
      "outputs": [],
      "source": [
        "from sklearn.feature_selection import SequentialFeatureSelector\n",
        "from sklearn.neighbors import KNeighborsClassifier\n",
        "\n",
        "x= df_brfss.drop('Diabetes', axis=1)\n",
        "y= df_brfss[\"Diabetes\"]\n",
        "\n",
        "x_train, x_test, y_train, y_test = train_test_split(x, y, test_size = 0.3, random_state=50)\n",
        "\n",
        "scaler = StandardScaler().fit(x_train)\n",
        "x_train = scaler.transform(x_train)\n",
        "x_test = scaler.transform(x_test)\n",
        "\n",
        "model = RandomForestClassifier()\n",
        "\n",
        "sfs = SequentialFeatureSelector(model)\n",
        "sfs.fit(x_train, y_train)\n",
        "\n",
        "x_train_reduced = sfs.transform(x_train)\n",
        "print(list(x_train_reduced))\n"
      ]
    },
    {
      "cell_type": "markdown",
      "source": [
        "## Conclusion:\n",
        "\n",
        "Original balances data set has accuracy of .73. However, if we use unbalanced set by merging 2015 and 2021, we get accuracy of .83. Downsampling this datas set using RandomUnderSampler decreases the accuracy to .53.\n",
        "\n",
        "Next step, use backward and forward feature sampling to validate find features which are not relevant. Also, run Deep Learning algorithm to calculate the accuracy. Another, next step is to try, upsample the pre-diabetic and diabetic. In many balances dataset, pre-diabetic is merged with non-diabetic, this may increase accuracy of model but effectiveness of model in terms of predicting the real world scenario (i.e distinction between, non-diabetic and pre-diabetic is removed)."
      ],
      "metadata": {
        "id": "BIE17cM-5sJn"
      }
    }
  ],
  "metadata": {
    "colab": {
      "toc_visible": true,
      "provenance": [],
      "include_colab_link": true
    },
    "kernelspec": {
      "display_name": "Python 3",
      "name": "python3"
    },
    "language_info": {
      "name": "python"
    }
  },
  "nbformat": 4,
  "nbformat_minor": 0
}